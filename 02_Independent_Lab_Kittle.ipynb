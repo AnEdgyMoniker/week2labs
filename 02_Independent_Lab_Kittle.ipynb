{
 "cells": [
  {
   "cell_type": "markdown",
   "metadata": {},
   "source": [
    "# Independent Lab Week 2\n",
    "## UM MSBA 632\n",
    "Independent Lab\n",
    "Author: Brandon Kittle\n",
    "03/04/2025\n",
    "\n",
    "*This is our convertor application for Celsius to Fahrenheit*\n",
    "\n"
   ]
  },
  {
   "cell_type": "markdown",
   "metadata": {},
   "source": [
    "*First let us create a function to assist in avoiding repetitive mathematics throughout the document. This will be callable through the cells below.*"
   ]
  },
  {
   "cell_type": "code",
   "execution_count": 1,
   "metadata": {},
   "outputs": [],
   "source": [
    "def celsius_to_fahrenheit(celsius_in): # Fuctioning asking for arguement celsius\n",
    "    fahrenheit_out = (celsius_in * 9/5) + 32 # Our Math needed\n",
    "    return fahrenheit_out # Return the value that shall be fahrenheit"
   ]
  },
  {
   "cell_type": "markdown",
   "metadata": {},
   "source": [
    "Now we can preform the steps of the function with efficency. First with step one let us create our variables!"
   ]
  },
  {
   "cell_type": "code",
   "execution_count": 2,
   "metadata": {},
   "outputs": [],
   "source": [
    "celsius = 0.0 # floating holder\n",
    "fahrenheit = 0.0 # floating holder\n",
    "\n",
    "#print(celsius) # Test\n",
    "#print(fahrenheit) # Test"
   ]
  },
  {
   "cell_type": "markdown",
   "metadata": {},
   "source": [
    "Next let us ask the user for a temp they would like to convert! Forgive me, I'd like to use float to avoid user error of entering any number. Just incase they decide to use a decimal. Having some experiance in python, we will also implement a Try Catch loop to ensure valid input from the user!"
   ]
  },
  {
   "cell_type": "code",
   "execution_count": 3,
   "metadata": {},
   "outputs": [],
   "source": [
    "while True: #Try catch for valid input\n",
    "    try:\n",
    "        celsius = float(input(\"Enter temperature in Celsius you would like to convert to Fahrenheit: \").strip())  # Strip removes extra spaces\n",
    "        break  # Exit the loop on valid input\n",
    "    except ValueError:\n",
    "        print(\"Invalid input. Please enter a valid number.\")"
   ]
  },
  {
   "cell_type": "markdown",
   "metadata": {},
   "source": [
    "Now that we have the user input, we will call our above function and run the conversion. Using the function ensures accuracy if we expand upond this program or application. This way any time we need to change or replicate our mathematics, we can keep our code cleaner and more precise for execution and tracebacks. "
   ]
  },
  {
   "cell_type": "code",
   "execution_count": 4,
   "metadata": {},
   "outputs": [],
   "source": [
    "fahrenheit = celsius_to_fahrenheit(celsius)\n",
    "\n",
    "#print(fahrenheit) #Test output"
   ]
  },
  {
   "cell_type": "markdown",
   "metadata": {},
   "source": [
    "Let's go ahead and output our values in a formated string!"
   ]
  },
  {
   "cell_type": "code",
   "execution_count": 5,
   "metadata": {},
   "outputs": [
    {
     "name": "stdout",
     "output_type": "stream",
     "text": [
      "37.0°C is equal to 98.60°F\n"
     ]
    }
   ],
   "source": [
    "print(f\"{celsius}°C is equal to {fahrenheit:.2f}°F\")"
   ]
  },
  {
   "cell_type": "markdown",
   "metadata": {},
   "source": [
    "Well that was sure fun! Now for the purposes of the assignment lets do our explicit cast of type conversion! "
   ]
  },
  {
   "cell_type": "code",
   "execution_count": 6,
   "metadata": {},
   "outputs": [
    {
     "name": "stdout",
     "output_type": "stream",
     "text": [
      "int_fahrenheit: 98 and this is type:  <class 'int'>\n"
     ]
    }
   ],
   "source": [
    "int_fahrenheit = int(fahrenheit)\n",
    "print(\"int_fahrenheit: \" + str(int_fahrenheit) + \" and this is type:  \" + str(type(int_fahrenheit)))"
   ]
  }
 ],
 "metadata": {
  "kernelspec": {
   "display_name": "Python 3",
   "language": "python",
   "name": "python3"
  },
  "language_info": {
   "codemirror_mode": {
    "name": "ipython",
    "version": 3
   },
   "file_extension": ".py",
   "mimetype": "text/x-python",
   "name": "python",
   "nbconvert_exporter": "python",
   "pygments_lexer": "ipython3",
   "version": "3.12.0"
  }
 },
 "nbformat": 4,
 "nbformat_minor": 2
}
